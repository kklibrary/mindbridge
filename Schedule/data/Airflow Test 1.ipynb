{
 "cells": [
  {
   "cell_type": "code",
   "execution_count": 3,
   "metadata": {},
   "outputs": [
    {
     "name": "stdout",
     "output_type": "stream",
     "text": [
      "Timestamp 2024-06-21 12:42:27.403506 has been written to timestamp.csv\n"
     ]
    }
   ],
   "source": [
    "import csv\n",
    "from datetime import datetime\n",
    "\n",
    "# Get the current timestamp\n",
    "current_timestamp = datetime.now()\n",
    "\n",
    "# Define the CSV file name\n",
    "csv_file = 'timestamp.csv'\n",
    "\n",
    "# Write the timestamp to the CSV file\n",
    "with open(csv_file, mode='w', newline='') as file:\n",
    "    writer = csv.writer(file)\n",
    "    writer.writerow(['Timestamp'])\n",
    "    writer.writerow([current_timestamp])\n",
    "\n",
    "print(f\"Timestamp {current_timestamp} has been written to {csv_file}\")\n"
   ]
  },
  {
   "cell_type": "code",
   "execution_count": 5,
   "metadata": {},
   "outputs": [
    {
     "name": "stdout",
     "output_type": "stream",
     "text": [
      "Message 'New entry message' with timestamp 2024-06-21 12:43:36.605339 has been appended to timestamps.csv\n"
     ]
    }
   ],
   "source": [
    "import csv\n",
    "from datetime import datetime\n",
    "\n",
    "# Define the message to be added\n",
    "message = \"New entry message\"\n",
    "\n",
    "# Get the current timestamp\n",
    "current_timestamp = datetime.now()\n",
    "\n",
    "# Define the CSV file name\n",
    "csv_file = 'timestamps.csv'\n",
    "\n",
    "# Check if the file exists to write the header only once\n",
    "file_exists = False\n",
    "try:\n",
    "    with open(csv_file, 'r') as file:\n",
    "        file_exists = True\n",
    "except FileNotFoundError:\n",
    "    pass\n",
    "\n",
    "# Write the message and timestamp to the CSV file\n",
    "with open(csv_file, mode='a', newline='') as file:\n",
    "    writer = csv.writer(file)\n",
    "    if not file_exists:\n",
    "        writer.writerow(['Message', 'Timestamp'])  # Write header only if the file doesn't exist\n",
    "    writer.writerow([message, current_timestamp])\n",
    "\n",
    "print(f\"Message '{message}' with timestamp {current_timestamp} has been appended to {csv_file}\")\n"
   ]
  }
 ],
 "metadata": {
  "kernelspec": {
   "display_name": "Python 3",
   "language": "python",
   "name": "python3"
  },
  "language_info": {
   "codemirror_mode": {
    "name": "ipython",
    "version": 3
   },
   "file_extension": ".py",
   "mimetype": "text/x-python",
   "name": "python",
   "nbconvert_exporter": "python",
   "pygments_lexer": "ipython3",
   "version": "3.9.6"
  }
 },
 "nbformat": 4,
 "nbformat_minor": 2
}
